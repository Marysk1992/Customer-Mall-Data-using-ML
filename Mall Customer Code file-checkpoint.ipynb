{
 "cells": [
  {
   "cell_type": "markdown",
   "id": "e7eda666",
   "metadata": {},
   "source": [
    "# Mall customers segmentation"
   ]
  },
  {
   "cell_type": "markdown",
   "id": "e22d45ca",
   "metadata": {},
   "source": [
    "# Import Libraries"
   ]
  },
  {
   "cell_type": "code",
   "execution_count": 1,
   "id": "434f09fa",
   "metadata": {},
   "outputs": [],
   "source": [
    "import pandas as pd\n",
    "import numpy as np\n",
    "from sklearn.preprocessing import StandardScaler\n",
    "from statsmodels.stats.outliers_influence import variance_inflation_factor \n",
    "from sklearn.metrics import accuracy_score, confusion_matrix, roc_curve, roc_auc_score\n",
    "import matplotlib.pyplot as plt\n",
    "import seaborn as sns\n",
    "from sklearn.cluster import KMeans\n",
    "import plotly.graph_objects as go\n",
    "from sklearn.cluster import DBSCAN\n",
    "from sklearn import metrics\n",
    "import warnings\n",
    "warnings.filterwarnings('ignore')"
   ]
  },
  {
   "cell_type": "markdown",
   "id": "0e314080",
   "metadata": {},
   "source": [
    "# Loaded the Mall Customer data"
   ]
  },
  {
   "cell_type": "code",
   "execution_count": 2,
   "id": "7398f05a",
   "metadata": {
    "scrolled": false
   },
   "outputs": [
    {
     "data": {
      "text/html": [
       "<div>\n",
       "<style scoped>\n",
       "    .dataframe tbody tr th:only-of-type {\n",
       "        vertical-align: middle;\n",
       "    }\n",
       "\n",
       "    .dataframe tbody tr th {\n",
       "        vertical-align: top;\n",
       "    }\n",
       "\n",
       "    .dataframe thead th {\n",
       "        text-align: right;\n",
       "    }\n",
       "</style>\n",
       "<table border=\"1\" class=\"dataframe\">\n",
       "  <thead>\n",
       "    <tr style=\"text-align: right;\">\n",
       "      <th></th>\n",
       "      <th>Gender</th>\n",
       "      <th>Age</th>\n",
       "      <th>Annual Income (k$)</th>\n",
       "      <th>Spending Score (1-100)</th>\n",
       "      <th>Unnamed: 5</th>\n",
       "      <th>Unnamed: 6</th>\n",
       "    </tr>\n",
       "    <tr>\n",
       "      <th>CustomerID</th>\n",
       "      <th></th>\n",
       "      <th></th>\n",
       "      <th></th>\n",
       "      <th></th>\n",
       "      <th></th>\n",
       "      <th></th>\n",
       "    </tr>\n",
       "  </thead>\n",
       "  <tbody>\n",
       "    <tr>\n",
       "      <th>1</th>\n",
       "      <td>Male</td>\n",
       "      <td>19</td>\n",
       "      <td>15</td>\n",
       "      <td>39</td>\n",
       "      <td>NaN</td>\n",
       "      <td>NaN</td>\n",
       "    </tr>\n",
       "    <tr>\n",
       "      <th>2</th>\n",
       "      <td>Male</td>\n",
       "      <td>21</td>\n",
       "      <td>15</td>\n",
       "      <td>81</td>\n",
       "      <td>NaN</td>\n",
       "      <td>NaN</td>\n",
       "    </tr>\n",
       "    <tr>\n",
       "      <th>3</th>\n",
       "      <td>Female</td>\n",
       "      <td>20</td>\n",
       "      <td>16</td>\n",
       "      <td>6</td>\n",
       "      <td>NaN</td>\n",
       "      <td>NaN</td>\n",
       "    </tr>\n",
       "    <tr>\n",
       "      <th>4</th>\n",
       "      <td>Female</td>\n",
       "      <td>23</td>\n",
       "      <td>16</td>\n",
       "      <td>77</td>\n",
       "      <td>NaN</td>\n",
       "      <td>NaN</td>\n",
       "    </tr>\n",
       "    <tr>\n",
       "      <th>5</th>\n",
       "      <td>Female</td>\n",
       "      <td>31</td>\n",
       "      <td>17</td>\n",
       "      <td>40</td>\n",
       "      <td>NaN</td>\n",
       "      <td>NaN</td>\n",
       "    </tr>\n",
       "    <tr>\n",
       "      <th>...</th>\n",
       "      <td>...</td>\n",
       "      <td>...</td>\n",
       "      <td>...</td>\n",
       "      <td>...</td>\n",
       "      <td>...</td>\n",
       "      <td>...</td>\n",
       "    </tr>\n",
       "    <tr>\n",
       "      <th>196</th>\n",
       "      <td>Female</td>\n",
       "      <td>35</td>\n",
       "      <td>120</td>\n",
       "      <td>79</td>\n",
       "      <td>NaN</td>\n",
       "      <td>NaN</td>\n",
       "    </tr>\n",
       "    <tr>\n",
       "      <th>197</th>\n",
       "      <td>Female</td>\n",
       "      <td>45</td>\n",
       "      <td>126</td>\n",
       "      <td>28</td>\n",
       "      <td>NaN</td>\n",
       "      <td>NaN</td>\n",
       "    </tr>\n",
       "    <tr>\n",
       "      <th>198</th>\n",
       "      <td>Male</td>\n",
       "      <td>32</td>\n",
       "      <td>126</td>\n",
       "      <td>74</td>\n",
       "      <td>NaN</td>\n",
       "      <td>NaN</td>\n",
       "    </tr>\n",
       "    <tr>\n",
       "      <th>199</th>\n",
       "      <td>Male</td>\n",
       "      <td>32</td>\n",
       "      <td>137</td>\n",
       "      <td>18</td>\n",
       "      <td>NaN</td>\n",
       "      <td>NaN</td>\n",
       "    </tr>\n",
       "    <tr>\n",
       "      <th>200</th>\n",
       "      <td>Male</td>\n",
       "      <td>30</td>\n",
       "      <td>137</td>\n",
       "      <td>83</td>\n",
       "      <td>NaN</td>\n",
       "      <td>NaN</td>\n",
       "    </tr>\n",
       "  </tbody>\n",
       "</table>\n",
       "<p>200 rows × 6 columns</p>\n",
       "</div>"
      ],
      "text/plain": [
       "            Gender  Age  Annual Income (k$)  Spending Score (1-100)  \\\n",
       "CustomerID                                                            \n",
       "1             Male   19                  15                      39   \n",
       "2             Male   21                  15                      81   \n",
       "3           Female   20                  16                       6   \n",
       "4           Female   23                  16                      77   \n",
       "5           Female   31                  17                      40   \n",
       "...            ...  ...                 ...                     ...   \n",
       "196         Female   35                 120                      79   \n",
       "197         Female   45                 126                      28   \n",
       "198           Male   32                 126                      74   \n",
       "199           Male   32                 137                      18   \n",
       "200           Male   30                 137                      83   \n",
       "\n",
       "            Unnamed: 5 Unnamed: 6  \n",
       "CustomerID                         \n",
       "1                  NaN        NaN  \n",
       "2                  NaN        NaN  \n",
       "3                  NaN        NaN  \n",
       "4                  NaN        NaN  \n",
       "5                  NaN        NaN  \n",
       "...                ...        ...  \n",
       "196                NaN        NaN  \n",
       "197                NaN        NaN  \n",
       "198                NaN        NaN  \n",
       "199                NaN        NaN  \n",
       "200                NaN        NaN  \n",
       "\n",
       "[200 rows x 6 columns]"
      ]
     },
     "execution_count": 2,
     "metadata": {},
     "output_type": "execute_result"
    }
   ],
   "source": [
    "#Loaded the data from xlsx file to a Pandas dataframe\n",
    "\n",
    "data=pd.read_excel(r\"C:\\Users\\Marys\\OneDrive\\Desktop\\Customer Segmentation.xlsx\",index_col=0,header=0)\n",
    "data"
   ]
  },
  {
   "cell_type": "markdown",
   "id": "19f5cd87",
   "metadata": {},
   "source": [
    "# Processing"
   ]
  },
  {
   "cell_type": "code",
   "execution_count": 3,
   "id": "87deebc1",
   "metadata": {},
   "outputs": [
    {
     "name": "stdout",
     "output_type": "stream",
     "text": [
      "            Gender  Age  Annual Income (k$)  Spending Score (1-100)  \\\n",
      "CustomerID                                                            \n",
      "1             Male   19                  15                      39   \n",
      "2             Male   21                  15                      81   \n",
      "3           Female   20                  16                       6   \n",
      "4           Female   23                  16                      77   \n",
      "5           Female   31                  17                      40   \n",
      "...            ...  ...                 ...                     ...   \n",
      "196         Female   35                 120                      79   \n",
      "197         Female   45                 126                      28   \n",
      "198           Male   32                 126                      74   \n",
      "199           Male   32                 137                      18   \n",
      "200           Male   30                 137                      83   \n",
      "\n",
      "            Unnamed: 5 Unnamed: 6  \n",
      "CustomerID                         \n",
      "1                  NaN        NaN  \n",
      "2                  NaN        NaN  \n",
      "3                  NaN        NaN  \n",
      "4                  NaN        NaN  \n",
      "5                  NaN        NaN  \n",
      "...                ...        ...  \n",
      "196                NaN        NaN  \n",
      "197                NaN        NaN  \n",
      "198                NaN        NaN  \n",
      "199                NaN        NaN  \n",
      "200                NaN        NaN  \n",
      "\n",
      "[200 rows x 6 columns]\n"
     ]
    }
   ],
   "source": [
    "data = data.rename(columns={'': 'CustomerID'})\n",
    "print(data)"
   ]
  },
  {
   "cell_type": "code",
   "execution_count": 4,
   "id": "9db0117f",
   "metadata": {},
   "outputs": [
    {
     "data": {
      "text/html": [
       "<div>\n",
       "<style scoped>\n",
       "    .dataframe tbody tr th:only-of-type {\n",
       "        vertical-align: middle;\n",
       "    }\n",
       "\n",
       "    .dataframe tbody tr th {\n",
       "        vertical-align: top;\n",
       "    }\n",
       "\n",
       "    .dataframe thead th {\n",
       "        text-align: right;\n",
       "    }\n",
       "</style>\n",
       "<table border=\"1\" class=\"dataframe\">\n",
       "  <thead>\n",
       "    <tr style=\"text-align: right;\">\n",
       "      <th></th>\n",
       "      <th>Gender</th>\n",
       "      <th>Age</th>\n",
       "      <th>Annual Income (k$)</th>\n",
       "      <th>Spending Score (1-100)</th>\n",
       "      <th>Unnamed: 5</th>\n",
       "      <th>Unnamed: 6</th>\n",
       "    </tr>\n",
       "    <tr>\n",
       "      <th>CustomerID</th>\n",
       "      <th></th>\n",
       "      <th></th>\n",
       "      <th></th>\n",
       "      <th></th>\n",
       "      <th></th>\n",
       "      <th></th>\n",
       "    </tr>\n",
       "  </thead>\n",
       "  <tbody>\n",
       "    <tr>\n",
       "      <th>1</th>\n",
       "      <td>Male</td>\n",
       "      <td>19</td>\n",
       "      <td>15</td>\n",
       "      <td>39</td>\n",
       "      <td>NaN</td>\n",
       "      <td>NaN</td>\n",
       "    </tr>\n",
       "    <tr>\n",
       "      <th>2</th>\n",
       "      <td>Male</td>\n",
       "      <td>21</td>\n",
       "      <td>15</td>\n",
       "      <td>81</td>\n",
       "      <td>NaN</td>\n",
       "      <td>NaN</td>\n",
       "    </tr>\n",
       "    <tr>\n",
       "      <th>3</th>\n",
       "      <td>Female</td>\n",
       "      <td>20</td>\n",
       "      <td>16</td>\n",
       "      <td>6</td>\n",
       "      <td>NaN</td>\n",
       "      <td>NaN</td>\n",
       "    </tr>\n",
       "    <tr>\n",
       "      <th>4</th>\n",
       "      <td>Female</td>\n",
       "      <td>23</td>\n",
       "      <td>16</td>\n",
       "      <td>77</td>\n",
       "      <td>NaN</td>\n",
       "      <td>NaN</td>\n",
       "    </tr>\n",
       "    <tr>\n",
       "      <th>5</th>\n",
       "      <td>Female</td>\n",
       "      <td>31</td>\n",
       "      <td>17</td>\n",
       "      <td>40</td>\n",
       "      <td>NaN</td>\n",
       "      <td>NaN</td>\n",
       "    </tr>\n",
       "  </tbody>\n",
       "</table>\n",
       "</div>"
      ],
      "text/plain": [
       "            Gender  Age  Annual Income (k$)  Spending Score (1-100)  \\\n",
       "CustomerID                                                            \n",
       "1             Male   19                  15                      39   \n",
       "2             Male   21                  15                      81   \n",
       "3           Female   20                  16                       6   \n",
       "4           Female   23                  16                      77   \n",
       "5           Female   31                  17                      40   \n",
       "\n",
       "            Unnamed: 5 Unnamed: 6  \n",
       "CustomerID                         \n",
       "1                  NaN        NaN  \n",
       "2                  NaN        NaN  \n",
       "3                  NaN        NaN  \n",
       "4                  NaN        NaN  \n",
       "5                  NaN        NaN  "
      ]
     },
     "execution_count": 4,
     "metadata": {},
     "output_type": "execute_result"
    }
   ],
   "source": [
    "#first 5 rows of the dataframe\n",
    "data.head()"
   ]
  },
  {
   "cell_type": "code",
   "execution_count": 5,
   "id": "893112de",
   "metadata": {},
   "outputs": [
    {
     "data": {
      "text/plain": [
       "(200, 6)"
      ]
     },
     "execution_count": 5,
     "metadata": {},
     "output_type": "execute_result"
    }
   ],
   "source": [
    "#finding the rows & columns\n",
    "data.shape"
   ]
  },
  {
   "cell_type": "code",
   "execution_count": 6,
   "id": "8eb47e53",
   "metadata": {},
   "outputs": [
    {
     "data": {
      "text/plain": [
       "Gender                     object\n",
       "Age                         int64\n",
       "Annual Income (k$)          int64\n",
       "Spending Score (1-100)      int64\n",
       "Unnamed: 5                float64\n",
       "Unnamed: 6                 object\n",
       "dtype: object"
      ]
     },
     "execution_count": 6,
     "metadata": {},
     "output_type": "execute_result"
    }
   ],
   "source": [
    "data.dtypes"
   ]
  },
  {
   "cell_type": "code",
   "execution_count": 7,
   "id": "4a6ea54b",
   "metadata": {},
   "outputs": [
    {
     "data": {
      "text/plain": [
       "Gender                      0\n",
       "Age                         0\n",
       "Annual Income (k$)          0\n",
       "Spending Score (1-100)      0\n",
       "Unnamed: 5                200\n",
       "Unnamed: 6                199\n",
       "dtype: int64"
      ]
     },
     "execution_count": 7,
     "metadata": {},
     "output_type": "execute_result"
    }
   ],
   "source": [
    "#checking the null values\n",
    "data.isnull().sum()"
   ]
  },
  {
   "cell_type": "code",
   "execution_count": 8,
   "id": "d94d90a6",
   "metadata": {},
   "outputs": [
    {
     "data": {
      "text/html": [
       "<div>\n",
       "<style scoped>\n",
       "    .dataframe tbody tr th:only-of-type {\n",
       "        vertical-align: middle;\n",
       "    }\n",
       "\n",
       "    .dataframe tbody tr th {\n",
       "        vertical-align: top;\n",
       "    }\n",
       "\n",
       "    .dataframe thead th {\n",
       "        text-align: right;\n",
       "    }\n",
       "</style>\n",
       "<table border=\"1\" class=\"dataframe\">\n",
       "  <thead>\n",
       "    <tr style=\"text-align: right;\">\n",
       "      <th></th>\n",
       "      <th>Age</th>\n",
       "      <th>Annual Income (k$)</th>\n",
       "      <th>Spending Score (1-100)</th>\n",
       "      <th>Unnamed: 5</th>\n",
       "    </tr>\n",
       "  </thead>\n",
       "  <tbody>\n",
       "    <tr>\n",
       "      <th>count</th>\n",
       "      <td>200.000000</td>\n",
       "      <td>200.000000</td>\n",
       "      <td>200.000000</td>\n",
       "      <td>0.0</td>\n",
       "    </tr>\n",
       "    <tr>\n",
       "      <th>mean</th>\n",
       "      <td>38.850000</td>\n",
       "      <td>60.560000</td>\n",
       "      <td>50.200000</td>\n",
       "      <td>NaN</td>\n",
       "    </tr>\n",
       "    <tr>\n",
       "      <th>std</th>\n",
       "      <td>13.969007</td>\n",
       "      <td>26.264721</td>\n",
       "      <td>25.823522</td>\n",
       "      <td>NaN</td>\n",
       "    </tr>\n",
       "    <tr>\n",
       "      <th>min</th>\n",
       "      <td>18.000000</td>\n",
       "      <td>15.000000</td>\n",
       "      <td>1.000000</td>\n",
       "      <td>NaN</td>\n",
       "    </tr>\n",
       "    <tr>\n",
       "      <th>25%</th>\n",
       "      <td>28.750000</td>\n",
       "      <td>41.500000</td>\n",
       "      <td>34.750000</td>\n",
       "      <td>NaN</td>\n",
       "    </tr>\n",
       "    <tr>\n",
       "      <th>50%</th>\n",
       "      <td>36.000000</td>\n",
       "      <td>61.500000</td>\n",
       "      <td>50.000000</td>\n",
       "      <td>NaN</td>\n",
       "    </tr>\n",
       "    <tr>\n",
       "      <th>75%</th>\n",
       "      <td>49.000000</td>\n",
       "      <td>78.000000</td>\n",
       "      <td>73.000000</td>\n",
       "      <td>NaN</td>\n",
       "    </tr>\n",
       "    <tr>\n",
       "      <th>max</th>\n",
       "      <td>70.000000</td>\n",
       "      <td>137.000000</td>\n",
       "      <td>99.000000</td>\n",
       "      <td>NaN</td>\n",
       "    </tr>\n",
       "  </tbody>\n",
       "</table>\n",
       "</div>"
      ],
      "text/plain": [
       "              Age  Annual Income (k$)  Spending Score (1-100)  Unnamed: 5\n",
       "count  200.000000          200.000000              200.000000         0.0\n",
       "mean    38.850000           60.560000               50.200000         NaN\n",
       "std     13.969007           26.264721               25.823522         NaN\n",
       "min     18.000000           15.000000                1.000000         NaN\n",
       "25%     28.750000           41.500000               34.750000         NaN\n",
       "50%     36.000000           61.500000               50.000000         NaN\n",
       "75%     49.000000           78.000000               73.000000         NaN\n",
       "max     70.000000          137.000000               99.000000         NaN"
      ]
     },
     "execution_count": 8,
     "metadata": {},
     "output_type": "execute_result"
    }
   ],
   "source": [
    "data.describe()"
   ]
  },
  {
   "cell_type": "code",
   "execution_count": 9,
   "id": "44bdd1d5",
   "metadata": {
    "scrolled": true
   },
   "outputs": [
    {
     "data": {
      "text/plain": [
       "Index(['Gender', 'Age', 'Annual Income (k$)', 'Spending Score (1-100)',\n",
       "       'Unnamed: 5', 'Unnamed: 6'],\n",
       "      dtype='object')"
      ]
     },
     "execution_count": 9,
     "metadata": {},
     "output_type": "execute_result"
    }
   ],
   "source": [
    "data.columns"
   ]
  },
  {
   "cell_type": "code",
   "execution_count": 10,
   "id": "4f9955e3",
   "metadata": {},
   "outputs": [],
   "source": [
    "data.rename(columns = {'Spending Score (1-100)':'Spending_Score','Annual Income (k$)':'Annual_Income'},inplace=True)"
   ]
  },
  {
   "cell_type": "code",
   "execution_count": 11,
   "id": "83475853",
   "metadata": {},
   "outputs": [
    {
     "data": {
      "text/plain": [
       "Int64Index([  1,   2,   3,   4,   5,   6,   7,   8,   9,  10,\n",
       "            ...\n",
       "            191, 192, 193, 194, 195, 196, 197, 198, 199, 200],\n",
       "           dtype='int64', name='CustomerID', length=200)"
      ]
     },
     "execution_count": 11,
     "metadata": {},
     "output_type": "execute_result"
    }
   ],
   "source": [
    "data.index"
   ]
  },
  {
   "cell_type": "code",
   "execution_count": 12,
   "id": "f66a2d5a",
   "metadata": {
    "scrolled": false
   },
   "outputs": [
    {
     "data": {
      "text/plain": [
       "<bound method DataFrame.info of             Gender  Age  Annual_Income  Spending_Score  Unnamed: 5 Unnamed: 6\n",
       "CustomerID                                                                   \n",
       "1             Male   19             15              39         NaN        NaN\n",
       "2             Male   21             15              81         NaN        NaN\n",
       "3           Female   20             16               6         NaN        NaN\n",
       "4           Female   23             16              77         NaN        NaN\n",
       "5           Female   31             17              40         NaN        NaN\n",
       "...            ...  ...            ...             ...         ...        ...\n",
       "196         Female   35            120              79         NaN        NaN\n",
       "197         Female   45            126              28         NaN        NaN\n",
       "198           Male   32            126              74         NaN        NaN\n",
       "199           Male   32            137              18         NaN        NaN\n",
       "200           Male   30            137              83         NaN        NaN\n",
       "\n",
       "[200 rows x 6 columns]>"
      ]
     },
     "execution_count": 12,
     "metadata": {},
     "output_type": "execute_result"
    }
   ],
   "source": [
    "#Getting some information about the dataset\n",
    "data.info"
   ]
  },
  {
   "cell_type": "markdown",
   "id": "b9e4bdad",
   "metadata": {},
   "source": [
    "# Exploratory Data Analysis\n"
   ]
  },
  {
   "cell_type": "markdown",
   "id": "a2883408",
   "metadata": {},
   "source": [
    "Here I willexplore the data by asking following questions\n",
    "\n",
    "1.How many customers the mall has based on the dataset?\n",
    "2.Do we have more female customers?\n",
    "3.How does Gender Influence Spending?\n",
    "4.What is the Age Distribution of customers?\n",
    "5.How does Age relates to the spending of customers?\n"
   ]
  },
  {
   "cell_type": "markdown",
   "id": "d1e1c9ec",
   "metadata": {},
   "source": [
    "1. How many Customers the Mall based on the dataset?"
   ]
  },
  {
   "cell_type": "code",
   "execution_count": 13,
   "id": "372e08a9",
   "metadata": {},
   "outputs": [
    {
     "name": "stdout",
     "output_type": "stream",
     "text": [
      "There are 200 customers.\n"
     ]
    }
   ],
   "source": [
    "print('There are {} customers.'.format(len(data)))"
   ]
  },
  {
   "cell_type": "markdown",
   "id": "ed7e40d3",
   "metadata": {},
   "source": [
    "2. Do we have more female customers?"
   ]
  },
  {
   "cell_type": "code",
   "execution_count": 14,
   "id": "8c6b7619",
   "metadata": {},
   "outputs": [
    {
     "data": {
      "text/plain": [
       "Female    112\n",
       "Male       88\n",
       "Name: Gender, dtype: int64"
      ]
     },
     "execution_count": 14,
     "metadata": {},
     "output_type": "execute_result"
    }
   ],
   "source": [
    "data.Gender.value_counts()"
   ]
  },
  {
   "cell_type": "code",
   "execution_count": 15,
   "id": "5aff47f1",
   "metadata": {
    "scrolled": true
   },
   "outputs": [
    {
     "data": {
      "image/png": "[encoded data removed]",
      "text/plain": [
       "<Figure size 640x480 with 1 Axes>"
      ]
     },
     "metadata": {},
     "output_type": "display_data"
    }
   ],
   "source": [
    "sns.set() \n",
    "sns.countplot(x=data.Gender,data=data)\n",
    "plt.show()"
   ]
  },
  {
   "cell_type": "markdown",
   "id": "733dfd72",
   "metadata": {},
   "source": [
    "both the bar chart and counts show that there are more females than male customers."
   ]
  },
  {
   "cell_type": "markdown",
   "id": "fa87a2f1",
   "metadata": {},
   "source": [
    "3. How does Gender Influence Spending?"
   ]
  },
  {
   "cell_type": "code",
   "execution_count": 16,
   "id": "b11e8a0d",
   "metadata": {},
   "outputs": [
    {
     "data": {
      "text/html": [
       "<div>\n",
       "<style scoped>\n",
       "    .dataframe tbody tr th:only-of-type {\n",
       "        vertical-align: middle;\n",
       "    }\n",
       "\n",
       "    .dataframe tbody tr th {\n",
       "        vertical-align: top;\n",
       "    }\n",
       "\n",
       "    .dataframe thead th {\n",
       "        text-align: right;\n",
       "    }\n",
       "</style>\n",
       "<table border=\"1\" class=\"dataframe\">\n",
       "  <thead>\n",
       "    <tr style=\"text-align: right;\">\n",
       "      <th></th>\n",
       "      <th>Spending_Score</th>\n",
       "    </tr>\n",
       "    <tr>\n",
       "      <th>Gender</th>\n",
       "      <th></th>\n",
       "    </tr>\n",
       "  </thead>\n",
       "  <tbody>\n",
       "    <tr>\n",
       "      <th>Female</th>\n",
       "      <td>51.526786</td>\n",
       "    </tr>\n",
       "    <tr>\n",
       "      <th>Male</th>\n",
       "      <td>48.511364</td>\n",
       "    </tr>\n",
       "  </tbody>\n",
       "</table>\n",
       "</div>"
      ],
      "text/plain": [
       "        Spending_Score\n",
       "Gender                \n",
       "Female       51.526786\n",
       "Male         48.511364"
      ]
     },
     "execution_count": 16,
     "metadata": {},
     "output_type": "execute_result"
    }
   ],
   "source": [
    "pd.pivot_table(data,index=[\"Gender\"],values=[\"Spending_Score\"])\n",
    "     "
   ]
  },
  {
   "cell_type": "markdown",
   "id": "dece67df",
   "metadata": {},
   "source": [
    "4. What is the Age Distribution of customers?"
   ]
  },
  {
   "cell_type": "code",
   "execution_count": 17,
   "id": "05d6a4eb",
   "metadata": {},
   "outputs": [
    {
     "name": "stdout",
     "output_type": "stream",
     "text": [
      "mean is 38.85 and median is 36.0\n"
     ]
    }
   ],
   "source": [
    "print('mean is {0} and median is {1}'.format(data.Age.mean(),data.Age.median()))"
   ]
  },
  {
   "cell_type": "code",
   "execution_count": 18,
   "id": "046ef0b6",
   "metadata": {},
   "outputs": [
    {
     "data": {
      "text/plain": [
       "<AxesSubplot:xlabel='Age', ylabel='Count'>"
      ]
     },
     "execution_count": 18,
     "metadata": {},
     "output_type": "execute_result"
    },
    {
     "data": {
      "image/png": "[encoded data removed]",
      "text/plain": [
       "<Figure size 640x480 with 1 Axes>"
      ]
     },
     "metadata": {},
     "output_type": "display_data"
    }
   ],
   "source": [
    "sns.histplot(data.Age,kde=True,color='purple')"
   ]
  },
  {
   "cell_type": "markdown",
   "id": "8c665168",
   "metadata": {},
   "source": [
    "Most of the customers are within 25 to 40yrs old with an average age of 38.85 and median age of 36yrs."
   ]
  },
  {
   "cell_type": "markdown",
   "id": "3ff5a343",
   "metadata": {},
   "source": [
    "5. How does Age relates to the spending of customers?"
   ]
  },
  {
   "cell_type": "code",
   "execution_count": 19,
   "id": "68bdab60",
   "metadata": {},
   "outputs": [
    {
     "data": {
      "text/plain": [
       "<AxesSubplot:xlabel='Age', ylabel='Spending_Score'>"
      ]
     },
     "execution_count": 19,
     "metadata": {},
     "output_type": "execute_result"
    },
    {
     "data": {
      "image/png": "[encoded data removed]",
      "text/plain": [
       "<Figure size 1000x500 with 1 Axes>"
      ]
     },
     "metadata": {},
     "output_type": "display_data"
    }
   ],
   "source": [
    "plt.figure(figsize=(10,5))\n",
    "sns.scatterplot(x=data.Age,y=data.Spending_Score,s=100)"
   ]
  },
  {
   "cell_type": "markdown",
   "id": "e45c2bb5",
   "metadata": {},
   "source": [
    "From the scatterplot it shows that younger people tend to spend more."
   ]
  },
  {
   "cell_type": "markdown",
   "id": "e18f1d6f",
   "metadata": {},
   "source": [
    "5. What is the Distribution Of Anual Income? And How does it relates with Spending Score?"
   ]
  },
  {
   "cell_type": "code",
   "execution_count": 20,
   "id": "43c79204",
   "metadata": {},
   "outputs": [
    {
     "data": {
      "image/png": "[encoded data removed]",
      "text/plain": [
       "<Figure size 1600x600 with 2 Axes>"
      ]
     },
     "metadata": {},
     "output_type": "display_data"
    }
   ],
   "source": [
    "fig,ax = plt.subplots(1,2,figsize=(16,6))\n",
    "ax[0].hist(data.Annual_Income,color='pink')\n",
    "ax[0].set(title='Annual Income Distribution',xlabel='Annual_Income')\n",
    "\n",
    "ax[1].scatter(data.Annual_Income,data.Spending_Score,color='red')\n",
    "ax[1].set(xlabel='Annual_Income',ylabel='Spending_Score',title='Spending Score vs Annual Income')\n",
    "plt.show()\n",
    "     "
   ]
  },
  {
   "cell_type": "markdown",
   "id": "68b96d13",
   "metadata": {},
   "source": [
    "6. What is the Distribution of Spending Score?"
   ]
  },
  {
   "cell_type": "code",
   "execution_count": 21,
   "id": "690cb29e",
   "metadata": {},
   "outputs": [
    {
     "data": {
      "image/png": "[encoded data removed]",
      "text/plain": [
       "<Figure size 800x400 with 1 Axes>"
      ]
     },
     "metadata": {},
     "output_type": "display_data"
    }
   ],
   "source": [
    "plt.figure(figsize=(8,4))\n",
    "sns.histplot(data.Spending_Score,color='brown')\n",
    "plt.show()\n",
    "     "
   ]
  },
  {
   "cell_type": "markdown",
   "id": "36b16752",
   "metadata": {},
   "source": [
    "Spending Score is normally distributed"
   ]
  },
  {
   "cell_type": "markdown",
   "id": "ba7db012",
   "metadata": {},
   "source": [
    "# Feature Selection"
   ]
  },
  {
   "cell_type": "markdown",
   "id": "4a396114",
   "metadata": {},
   "source": [
    "From the exploratory data analysis above, it is obvious that all the variables have some sort of relationship with spending score. We will be using all the variables to build the clustering models."
   ]
  },
  {
   "cell_type": "markdown",
   "id": "5ffda61d",
   "metadata": {},
   "source": [
    "# Feature Transformation"
   ]
  },
  {
   "cell_type": "markdown",
   "id": "84a9bc0d",
   "metadata": {},
   "source": [
    "Since the Gender column datatype is categorical, then we have to convert it into a numerical datatype using one hot encoding(pandas.get_dummies)."
   ]
  },
  {
   "cell_type": "code",
   "execution_count": 22,
   "id": "ce5942c5",
   "metadata": {},
   "outputs": [],
   "source": [
    "data = pd.get_dummies(data,drop_first=True)"
   ]
  },
  {
   "cell_type": "code",
   "execution_count": 23,
   "id": "28005ab0",
   "metadata": {},
   "outputs": [
    {
     "data": {
      "text/html": [
       "<div>\n",
       "<style scoped>\n",
       "    .dataframe tbody tr th:only-of-type {\n",
       "        vertical-align: middle;\n",
       "    }\n",
       "\n",
       "    .dataframe tbody tr th {\n",
       "        vertical-align: top;\n",
       "    }\n",
       "\n",
       "    .dataframe thead th {\n",
       "        text-align: right;\n",
       "    }\n",
       "</style>\n",
       "<table border=\"1\" class=\"dataframe\">\n",
       "  <thead>\n",
       "    <tr style=\"text-align: right;\">\n",
       "      <th></th>\n",
       "      <th>Age</th>\n",
       "      <th>Annual_Income</th>\n",
       "      <th>Spending_Score</th>\n",
       "      <th>Unnamed: 5</th>\n",
       "      <th>Gender_Male</th>\n",
       "    </tr>\n",
       "    <tr>\n",
       "      <th>CustomerID</th>\n",
       "      <th></th>\n",
       "      <th></th>\n",
       "      <th></th>\n",
       "      <th></th>\n",
       "      <th></th>\n",
       "    </tr>\n",
       "  </thead>\n",
       "  <tbody>\n",
       "    <tr>\n",
       "      <th>1</th>\n",
       "      <td>19</td>\n",
       "      <td>15</td>\n",
       "      <td>39</td>\n",
       "      <td>NaN</td>\n",
       "      <td>1</td>\n",
       "    </tr>\n",
       "    <tr>\n",
       "      <th>2</th>\n",
       "      <td>21</td>\n",
       "      <td>15</td>\n",
       "      <td>81</td>\n",
       "      <td>NaN</td>\n",
       "      <td>1</td>\n",
       "    </tr>\n",
       "    <tr>\n",
       "      <th>3</th>\n",
       "      <td>20</td>\n",
       "      <td>16</td>\n",
       "      <td>6</td>\n",
       "      <td>NaN</td>\n",
       "      <td>0</td>\n",
       "    </tr>\n",
       "    <tr>\n",
       "      <th>4</th>\n",
       "      <td>23</td>\n",
       "      <td>16</td>\n",
       "      <td>77</td>\n",
       "      <td>NaN</td>\n",
       "      <td>0</td>\n",
       "    </tr>\n",
       "    <tr>\n",
       "      <th>5</th>\n",
       "      <td>31</td>\n",
       "      <td>17</td>\n",
       "      <td>40</td>\n",
       "      <td>NaN</td>\n",
       "      <td>0</td>\n",
       "    </tr>\n",
       "  </tbody>\n",
       "</table>\n",
       "</div>"
      ],
      "text/plain": [
       "            Age  Annual_Income  Spending_Score  Unnamed: 5  Gender_Male\n",
       "CustomerID                                                             \n",
       "1            19             15              39         NaN            1\n",
       "2            21             15              81         NaN            1\n",
       "3            20             16               6         NaN            0\n",
       "4            23             16              77         NaN            0\n",
       "5            31             17              40         NaN            0"
      ]
     },
     "execution_count": 23,
     "metadata": {},
     "output_type": "execute_result"
    }
   ],
   "source": [
    "data.head()"
   ]
  },
  {
   "cell_type": "markdown",
   "id": "8591b3a9",
   "metadata": {},
   "source": [
    "# KMeans Clustering"
   ]
  },
  {
   "cell_type": "markdown",
   "id": "e6bd4aa3",
   "metadata": {},
   "source": [
    "Initialize cluster"
   ]
  },
  {
   "cell_type": "code",
   "execution_count": 24,
   "id": "bcaa6e25",
   "metadata": {},
   "outputs": [],
   "source": [
    "k_cluster = KMeans(n_clusters=5, random_state=0)"
   ]
  },
  {
   "cell_type": "markdown",
   "id": "b433f525",
   "metadata": {},
   "source": [
    "Lets use the elbow method to find the best number of clusters"
   ]
  },
  {
   "cell_type": "code",
   "execution_count": 25,
   "id": "c073fefd",
   "metadata": {},
   "outputs": [
    {
     "ename": "ValueError",
     "evalue": "Input contains NaN, infinity or a value too large for dtype('float64').",
     "output_type": "error",
     "traceback": [
      "\u001b[1;31m---------------------------------------------------------------------------\u001b[0m",
      "\u001b[1;31mValueError\u001b[0m                                Traceback (most recent call last)",
      "\u001b[1;32m~\\AppData\\Local\\Temp\\ipykernel_26656\\2223283298.py\u001b[0m in \u001b[0;36m<module>\u001b[1;34m\u001b[0m\n\u001b[0;32m      2\u001b[0m \u001b[1;32mfor\u001b[0m \u001b[0mk\u001b[0m \u001b[1;32min\u001b[0m \u001b[0mrange\u001b[0m\u001b[1;33m(\u001b[0m\u001b[1;36m1\u001b[0m \u001b[1;33m,\u001b[0m\u001b[1;36m40\u001b[0m\u001b[1;33m)\u001b[0m\u001b[1;33m:\u001b[0m\u001b[1;33m\u001b[0m\u001b[1;33m\u001b[0m\u001b[0m\n\u001b[0;32m      3\u001b[0m     \u001b[0mcluster\u001b[0m \u001b[1;33m=\u001b[0m \u001b[0mKMeans\u001b[0m\u001b[1;33m(\u001b[0m\u001b[0mn_clusters\u001b[0m\u001b[1;33m=\u001b[0m\u001b[0mk\u001b[0m\u001b[1;33m,\u001b[0m \u001b[0mrandom_state\u001b[0m\u001b[1;33m=\u001b[0m\u001b[1;36m0\u001b[0m\u001b[1;33m)\u001b[0m\u001b[1;33m\u001b[0m\u001b[1;33m\u001b[0m\u001b[0m\n\u001b[1;32m----> 4\u001b[1;33m     \u001b[0mcluster\u001b[0m\u001b[1;33m.\u001b[0m\u001b[0mfit\u001b[0m\u001b[1;33m(\u001b[0m\u001b[0mdata\u001b[0m\u001b[1;33m)\u001b[0m\u001b[1;33m\u001b[0m\u001b[1;33m\u001b[0m\u001b[0m\n\u001b[0m\u001b[0;32m      5\u001b[0m     \u001b[0mssq_distance\u001b[0m\u001b[1;33m.\u001b[0m\u001b[0mappend\u001b[0m\u001b[1;33m(\u001b[0m\u001b[0mcluster\u001b[0m\u001b[1;33m.\u001b[0m\u001b[0minertia_\u001b[0m\u001b[1;33m)\u001b[0m\u001b[1;33m\u001b[0m\u001b[1;33m\u001b[0m\u001b[0m\n\u001b[0;32m      6\u001b[0m \u001b[1;33m\u001b[0m\u001b[0m\n",
      "\u001b[1;32m~\\anaconda3\\lib\\site-packages\\sklearn\\cluster\\_kmeans.py\u001b[0m in \u001b[0;36mfit\u001b[1;34m(self, X, y, sample_weight)\u001b[0m\n\u001b[0;32m   1135\u001b[0m             \u001b[0mFitted\u001b[0m \u001b[0mestimator\u001b[0m\u001b[1;33m.\u001b[0m\u001b[1;33m\u001b[0m\u001b[1;33m\u001b[0m\u001b[0m\n\u001b[0;32m   1136\u001b[0m         \"\"\"\n\u001b[1;32m-> 1137\u001b[1;33m         X = self._validate_data(\n\u001b[0m\u001b[0;32m   1138\u001b[0m             \u001b[0mX\u001b[0m\u001b[1;33m,\u001b[0m\u001b[1;33m\u001b[0m\u001b[1;33m\u001b[0m\u001b[0m\n\u001b[0;32m   1139\u001b[0m             \u001b[0maccept_sparse\u001b[0m\u001b[1;33m=\u001b[0m\u001b[1;34m\"csr\"\u001b[0m\u001b[1;33m,\u001b[0m\u001b[1;33m\u001b[0m\u001b[1;33m\u001b[0m\u001b[0m\n",
      "\u001b[1;32m~\\anaconda3\\lib\\site-packages\\sklearn\\base.py\u001b[0m in \u001b[0;36m_validate_data\u001b[1;34m(self, X, y, reset, validate_separately, **check_params)\u001b[0m\n\u001b[0;32m    564\u001b[0m             \u001b[1;32mraise\u001b[0m \u001b[0mValueError\u001b[0m\u001b[1;33m(\u001b[0m\u001b[1;34m\"Validation should be done on X, y or both.\"\u001b[0m\u001b[1;33m)\u001b[0m\u001b[1;33m\u001b[0m\u001b[1;33m\u001b[0m\u001b[0m\n\u001b[0;32m    565\u001b[0m         \u001b[1;32melif\u001b[0m \u001b[1;32mnot\u001b[0m \u001b[0mno_val_X\u001b[0m \u001b[1;32mand\u001b[0m \u001b[0mno_val_y\u001b[0m\u001b[1;33m:\u001b[0m\u001b[1;33m\u001b[0m\u001b[1;33m\u001b[0m\u001b[0m\n\u001b[1;32m--> 566\u001b[1;33m             \u001b[0mX\u001b[0m \u001b[1;33m=\u001b[0m \u001b[0mcheck_array\u001b[0m\u001b[1;33m(\u001b[0m\u001b[0mX\u001b[0m\u001b[1;33m,\u001b[0m \u001b[1;33m**\u001b[0m\u001b[0mcheck_params\u001b[0m\u001b[1;33m)\u001b[0m\u001b[1;33m\u001b[0m\u001b[1;33m\u001b[0m\u001b[0m\n\u001b[0m\u001b[0;32m    567\u001b[0m             \u001b[0mout\u001b[0m \u001b[1;33m=\u001b[0m \u001b[0mX\u001b[0m\u001b[1;33m\u001b[0m\u001b[1;33m\u001b[0m\u001b[0m\n\u001b[0;32m    568\u001b[0m         \u001b[1;32melif\u001b[0m \u001b[0mno_val_X\u001b[0m \u001b[1;32mand\u001b[0m \u001b[1;32mnot\u001b[0m \u001b[0mno_val_y\u001b[0m\u001b[1;33m:\u001b[0m\u001b[1;33m\u001b[0m\u001b[1;33m\u001b[0m\u001b[0m\n",
      "\u001b[1;32m~\\anaconda3\\lib\\site-packages\\sklearn\\utils\\validation.py\u001b[0m in \u001b[0;36mcheck_array\u001b[1;34m(array, accept_sparse, accept_large_sparse, dtype, order, copy, force_all_finite, ensure_2d, allow_nd, ensure_min_samples, ensure_min_features, estimator)\u001b[0m\n\u001b[0;32m    798\u001b[0m \u001b[1;33m\u001b[0m\u001b[0m\n\u001b[0;32m    799\u001b[0m         \u001b[1;32mif\u001b[0m \u001b[0mforce_all_finite\u001b[0m\u001b[1;33m:\u001b[0m\u001b[1;33m\u001b[0m\u001b[1;33m\u001b[0m\u001b[0m\n\u001b[1;32m--> 800\u001b[1;33m             \u001b[0m_assert_all_finite\u001b[0m\u001b[1;33m(\u001b[0m\u001b[0marray\u001b[0m\u001b[1;33m,\u001b[0m \u001b[0mallow_nan\u001b[0m\u001b[1;33m=\u001b[0m\u001b[0mforce_all_finite\u001b[0m \u001b[1;33m==\u001b[0m \u001b[1;34m\"allow-nan\"\u001b[0m\u001b[1;33m)\u001b[0m\u001b[1;33m\u001b[0m\u001b[1;33m\u001b[0m\u001b[0m\n\u001b[0m\u001b[0;32m    801\u001b[0m \u001b[1;33m\u001b[0m\u001b[0m\n\u001b[0;32m    802\u001b[0m     \u001b[1;32mif\u001b[0m \u001b[0mensure_min_samples\u001b[0m \u001b[1;33m>\u001b[0m \u001b[1;36m0\u001b[0m\u001b[1;33m:\u001b[0m\u001b[1;33m\u001b[0m\u001b[1;33m\u001b[0m\u001b[0m\n",
      "\u001b[1;32m~\\anaconda3\\lib\\site-packages\\sklearn\\utils\\validation.py\u001b[0m in \u001b[0;36m_assert_all_finite\u001b[1;34m(X, allow_nan, msg_dtype)\u001b[0m\n\u001b[0;32m    112\u001b[0m         ):\n\u001b[0;32m    113\u001b[0m             \u001b[0mtype_err\u001b[0m \u001b[1;33m=\u001b[0m \u001b[1;34m\"infinity\"\u001b[0m \u001b[1;32mif\u001b[0m \u001b[0mallow_nan\u001b[0m \u001b[1;32melse\u001b[0m \u001b[1;34m\"NaN, infinity\"\u001b[0m\u001b[1;33m\u001b[0m\u001b[1;33m\u001b[0m\u001b[0m\n\u001b[1;32m--> 114\u001b[1;33m             raise ValueError(\n\u001b[0m\u001b[0;32m    115\u001b[0m                 msg_err.format(\n\u001b[0;32m    116\u001b[0m                     \u001b[0mtype_err\u001b[0m\u001b[1;33m,\u001b[0m \u001b[0mmsg_dtype\u001b[0m \u001b[1;32mif\u001b[0m \u001b[0mmsg_dtype\u001b[0m \u001b[1;32mis\u001b[0m \u001b[1;32mnot\u001b[0m \u001b[1;32mNone\u001b[0m \u001b[1;32melse\u001b[0m \u001b[0mX\u001b[0m\u001b[1;33m.\u001b[0m\u001b[0mdtype\u001b[0m\u001b[1;33m\u001b[0m\u001b[1;33m\u001b[0m\u001b[0m\n",
      "\u001b[1;31mValueError\u001b[0m: Input contains NaN, infinity or a value too large for dtype('float64')."
     ]
    }
   ],
   "source": [
    "ssq_distance = []\n",
    "for k in range(1 ,40):\n",
    "    cluster = KMeans(n_clusters=k, random_state=0)\n",
    "    cluster.fit(data)\n",
    "    ssq_distance.append(cluster.inertia_)\n",
    "    \n",
    "plt.figure(1 , figsize = (10 ,4))\n",
    "plt.plot(list(range(1,40)), ssq_distance,color='black')\n",
    "plt.xlabel('Clusters') , plt.ylabel('Sum of Squared Distance')\n",
    "plt.show()"
   ]
  },
  {
   "cell_type": "markdown",
   "id": "7c8f45fd",
   "metadata": {},
   "source": [
    "Fit the data and get the labels"
   ]
  },
  {
   "cell_type": "code",
   "execution_count": null,
   "id": "d6a24b04",
   "metadata": {},
   "outputs": [],
   "source": [
    "k_cluster.fit(data)\n",
    "k_labels = k_cluster.labels_"
   ]
  },
  {
   "cell_type": "markdown",
   "id": "601bd6cb",
   "metadata": {},
   "source": [
    "How does the clusters relate with our variables?"
   ]
  },
  {
   "cell_type": "code",
   "execution_count": null,
   "id": "8823c144",
   "metadata": {},
   "outputs": [],
   "source": [
    "fig, axes = plt.subplots(1, 3, figsize=(15, 5), sharey=True)\n",
    "sns.scatterplot(ax=axes[0],x=data.Age, y=data.Spending_Score,hue=k_labels,palette='Set1')\n",
    "axes[0].set_title('Age Vs Spending Score')\n",
    "\n",
    "sns.scatterplot(ax=axes[1], x=data.Annual_Income, y=data.Spending_Score,hue=k_labels,palette='Set1')\n",
    "axes[1].set_title('Annual Income Vs Spending Score')\n",
    "\n",
    "sns.barplot(ax=axes[2], x=data.Gender_Male, y=data.Spending_Score,hue=k_labels,palette='Set1')\n",
    "axes[2].set_title('Gender Vs Spending Score')\n",
    "axes[2].set_xlabel('Gender')\n",
    "plt.show()"
   ]
  },
  {
   "cell_type": "markdown",
   "id": "444bc531",
   "metadata": {},
   "source": [
    "From the plots above, it is obvious that Age is the most important factor in determininig Spending Score. Irrespective of their Annual income, younger people tend to spend more."
   ]
  },
  {
   "cell_type": "markdown",
   "id": "2b5506b1",
   "metadata": {},
   "source": [
    "# DBSCAN Clustering Model"
   ]
  },
  {
   "cell_type": "markdown",
   "id": "a0577981",
   "metadata": {},
   "source": [
    "Initialsze DBSCAN Clustering"
   ]
  },
  {
   "cell_type": "code",
   "execution_count": null,
   "id": "2f7aef9b",
   "metadata": {},
   "outputs": [],
   "source": [
    "from sklearn.cluster import DBSCAN\n",
    "#dbscan model\n",
    "dbscan=DBSCAN(eps=12,min_samples=7.5)\n",
    "# Fit the model\n",
    "cluster=dbscan.fit(data)\n",
    "db_labels=cluster.labels_\n",
    "     "
   ]
  },
  {
   "cell_type": "markdown",
   "id": "d39302a2",
   "metadata": {},
   "source": [
    "Lets calculate the number clusters found by the algorithm"
   ]
  },
  {
   "cell_type": "code",
   "execution_count": null,
   "id": "548ff96f",
   "metadata": {},
   "outputs": [],
   "source": [
    "no_clusters=len(set(db_labels))- (1 if -1 in db_labels else 0)\n",
    "print('there are {} clusters'.format(no_clusters))"
   ]
  },
  {
   "cell_type": "markdown",
   "id": "94269735",
   "metadata": {},
   "source": [
    "How to find the best values for epsulum and min_samples?\n",
    "\n",
    "You will have to experiment with diferent values, but i often use \"for loop\" to find min_samples as shown in the code below"
   ]
  },
  {
   "cell_type": "code",
   "execution_count": null,
   "id": "00106133",
   "metadata": {
    "scrolled": true
   },
   "outputs": [],
   "source": [
    "from sklearn import metrics\n",
    "sh_score = []\n",
    "for num in range(1,20):\n",
    "  dbscan=DBSCAN(eps=12,min_samples=num)\n",
    "  model=dbscan.fit(data)\n",
    "  d_labels=model.labels_\n",
    "  score = metrics.silhouette_score(data,d_labels)\n",
    "  sh_score.append(score)\n",
    "plt.figure(figsize=(10,4))\n",
    "plt.plot(list(range(1,20)),sh_score)\n",
    "plt.xlabel('min_samples')\n",
    "plt.show()"
   ]
  },
  {
   "cell_type": "markdown",
   "id": "a23b610b",
   "metadata": {},
   "source": [
    "How does the clusters relate with our variables?"
   ]
  },
  {
   "cell_type": "code",
   "execution_count": null,
   "id": "5dc6cbc0",
   "metadata": {},
   "outputs": [],
   "source": [
    "fig, axes = plt.subplots(1, 3, figsize=(15, 5), sharey=True)\n",
    "sns.scatterplot(ax=axes[0],x=data.Age, y=data.Spending_Score,hue=db_labels,palette='Set1')\n",
    "axes[0].set_title('Age Vs Spending Score')\n",
    "\n",
    "sns.scatterplot(ax=axes[1], x=data.Annual_Income, y=data.Spending_Score,hue=db_labels,\n",
    "                palette='Set1')\n",
    "axes[1].set_title('Annual Income Vs Spending Score')\n",
    "\n",
    "sns.barplot(ax=axes[2], x=data.Gender_Male, y=data.Spending_Score,hue=db_labels\n",
    "            ,palette='Set1')\n",
    "axes[2].set_title('Gender Vs Spending Score')\n",
    "axes[2].set_xlabel('Gender')\n",
    "plt.show()\n",
    "     "
   ]
  },
  {
   "cell_type": "markdown",
   "id": "105c9cf6",
   "metadata": {},
   "source": [
    "Similarly,DBSCAN also shows that Age is the most import factor to consider as younger people spend more irrespective of their Annual income."
   ]
  },
  {
   "cell_type": "markdown",
   "id": "d02f5968",
   "metadata": {},
   "source": [
    "# Models Performance And Evaluation Using Sihoutte Coefficient"
   ]
  },
  {
   "cell_type": "markdown",
   "id": "c73af642",
   "metadata": {},
   "source": [
    "For KMeans"
   ]
  },
  {
   "cell_type": "code",
   "execution_count": null,
   "id": "e0af93ce",
   "metadata": {},
   "outputs": [],
   "source": [
    "coef = metrics.silhouette_score(data,k_labels)\n",
    "print('The sihoutte score is {}'.format(coef))  "
   ]
  },
  {
   "cell_type": "code",
   "execution_count": null,
   "id": "45095385",
   "metadata": {},
   "outputs": [],
   "source": [
    "the sihoutte score is 0.20473300000169162"
   ]
  },
  {
   "cell_type": "markdown",
   "id": "3ee7ec86",
   "metadata": {},
   "source": [
    "For DBSCAN"
   ]
  },
  {
   "cell_type": "code",
   "execution_count": null,
   "id": "4df0aefc",
   "metadata": {},
   "outputs": [],
   "source": [
    "coef = metrics.silhouette_score(data,db_labels)\n",
    "print('The sihoutte score is {}'.format(coef))     "
   ]
  },
  {
   "cell_type": "markdown",
   "id": "7f4a6ed2",
   "metadata": {},
   "source": [
    "the sihoutte score is 0.20473300000169162"
   ]
  },
  {
   "cell_type": "markdown",
   "id": "5a581f5a",
   "metadata": {},
   "source": [
    "# KMeans Clustering performs better than DBSCAN Clustering."
   ]
  }
 ],
 "metadata": {
  "kernelspec": {
   "display_name": "Python 3 (ipykernel)",
   "language": "python",
   "name": "python3"
  },
  "language_info": {
   "codemirror_mode": {
    "name": "ipython",
    "version": 3
   },
   "file_extension": ".py",
   "mimetype": "text/x-python",
   "name": "python",
   "nbconvert_exporter": "python",
   "pygments_lexer": "ipython3",
   "version": "3.9.13"
  }
 },
 "nbformat": 4,
 "nbformat_minor": 5
}
